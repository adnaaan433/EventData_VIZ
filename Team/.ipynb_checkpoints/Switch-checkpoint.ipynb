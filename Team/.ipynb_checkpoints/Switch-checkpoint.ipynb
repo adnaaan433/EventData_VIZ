{
 "cells": [
  {
   "cell_type": "code",
   "execution_count": 1,
   "id": "1716d880-e38a-4910-91f0-823f1cbea019",
   "metadata": {},
   "outputs": [
    {
     "name": "stdout",
     "output_type": "stream",
     "text": [
      "CPU times: total: 1.23 s\n",
      "Wall time: 2.52 s\n"
     ]
    }
   ],
   "source": [
    "%%time\n",
    "import pandas as pd\n",
    "import matplotlib.pyplot as plt\n",
    "import numpy as np\n",
    "from matplotlib.markers import MarkerStyle\n",
    "from mplsoccer.pitch import Pitch\n",
    "from mplsoccer import Pitch, VerticalPitch\n",
    "from highlight_text import ax_text, fig_text\n",
    "\n",
    "from highlight_text import ax_text\n",
    "from PIL import Image\n",
    "from mplsoccer import add_image\n",
    "import matplotlib.ticker as ticker\n",
    "import urllib\n",
    "from urllib.request import urlopen\n",
    "\n",
    "from sklearn.cluster import KMeans\n",
    "import matplotlib.patches as patches\n",
    "\n",
    "pd.set_option('display.max_columns', None)"
   ]
  },
  {
   "cell_type": "code",
   "execution_count": 2,
   "id": "17ea0b0c-1a18-4653-b5fb-aa99f3916c63",
   "metadata": {},
   "outputs": [
    {
     "name": "stdout",
     "output_type": "stream",
     "text": [
      "CPU times: total: 3.39 s\n",
      "Wall time: 3.41 s\n"
     ]
    }
   ],
   "source": [
    "%%time\n",
    "df = pd.read_csv(\"D:\\FData\\LaLiga_2023-24\\GW1_to_GW_38combinded.csv\")"
   ]
  },
  {
   "cell_type": "markdown",
   "id": "269be696-d8ab-4c83-b2b3-502172ca1816",
   "metadata": {
    "jp-MarkdownHeadingCollapsed": true
   },
   "source": [
    "# For"
   ]
  },
  {
   "cell_type": "code",
   "execution_count": 40,
   "id": "6e25a369-e17a-49fa-9c40-098500a116f4",
   "metadata": {},
   "outputs": [
    {
     "name": "stdout",
     "output_type": "stream",
     "text": [
      "0 0 0\n",
      "CPU times: total: 1.52 s\n",
      "Wall time: 1.53 s\n"
     ]
    },
    {
     "name": "stderr",
     "output_type": "stream",
     "text": [
      "<timed exec>:7: SettingWithCopyWarning: \n",
      "A value is trying to be set on a copy of a slice from a DataFrame.\n",
      "Try using .loc[row_indexer,col_indexer] = value instead\n",
      "\n",
      "See the caveats in the documentation: https://pandas.pydata.org/pandas-docs/stable/user_guide/indexing.html#returning-a-view-versus-a-copy\n"
     ]
    },
    {
     "data": {
      "image/png": "[encoded data removed]",
      "text/plain": [
       "<Figure size 640x480 with 1 Axes>"
      ]
     },
     "metadata": {},
     "output_type": "display_data"
    }
   ],
   "source": [
    "%%time\n",
    "def plot_switch(ax, team_name):\n",
    "    df_team = df[(df['teamName']==team_name) & (df['type']=='Pass') \n",
    "                & (~df['qualifiers'].str.contains('Cross')) & (~df['qualifiers'].str.contains('Freekick')) & \n",
    "                  (~df['qualifiers'].str.contains('GoalKick')) & (~df['qualifiers'].str.contains('CornerTaken')) & \n",
    "                  (~df['qualifiers'].str.contains('Cross') & (~df['qualifiers'].str.contains('Longball'))) \n",
    "    ]\n",
    "    df_team['vlen'] = (df['y'] - df['endY']).abs()\n",
    "    switch = df_team[df_team['vlen']>=36.5]\n",
    "\n",
    "    pitch = Pitch(pitch_type='uefa', pitch_color='#f5f5f5', line_color='k', goal_type='box', linewidth=0.85, corner_arcs=True)\n",
    "    pitch.draw(ax=ax)\n",
    "    s = 0\n",
    "    u = 0\n",
    "    for index, row in switch.iterrows():\n",
    "        if ((row['endX'] >= row['x']+1) & \n",
    "            # (row['endX'] <= row['x']+35) & \n",
    "            (row['x']>=17.5) & (row['x']<=87.5) &\n",
    "            (row['outcomeType']=='Successful')):\n",
    "            arrow = patches.FancyArrowPatch((row['x'], row['y']), (row['endX'], row['endY']), arrowstyle='->', zorder=2, color='#479bf5', mutation_scale=7, alpha=0.75, linewidth=0.5)\n",
    "            ax.add_patch(arrow)\n",
    "            s += 1\n",
    "        if ((row['endX'] >= row['x']+1) & \n",
    "            # (row['endX'] <= row['x']+35) & \n",
    "            (row['x']>=17.5) & (row['x']<=87.5) &\n",
    "            (row['outcomeType']=='Unsuccessful')):\n",
    "            arrow = patches.FancyArrowPatch((row['x'], row['y']), (row['endX'], row['endY']), arrowstyle='->', zorder=2, color='#ff4b44', mutation_scale=7, alpha=0.75, linewidth=0.5)\n",
    "            ax.add_patch(arrow)\n",
    "            u += 1\n",
    "    print(s, u, s+u)\n",
    "    \n",
    "\n",
    "fig, ax = plt.subplots()\n",
    "plot_switch(ax, 'Barcelona')"
   ]
  },
  {
   "cell_type": "code",
   "execution_count": null,
   "id": "dd7954ce-6a29-4c95-aa37-b987d9687388",
   "metadata": {},
   "outputs": [],
   "source": []
  }
 ],
 "metadata": {
  "kernelspec": {
   "display_name": "Python 3 (ipykernel)",
   "language": "python",
   "name": "python3"
  },
  "language_info": {
   "codemirror_mode": {
    "name": "ipython",
    "version": 3
   },
   "file_extension": ".py",
   "mimetype": "text/x-python",
   "name": "python",
   "nbconvert_exporter": "python",
   "pygments_lexer": "ipython3",
   "version": "3.11.7"
  }
 },
 "nbformat": 4,
 "nbformat_minor": 5
}
