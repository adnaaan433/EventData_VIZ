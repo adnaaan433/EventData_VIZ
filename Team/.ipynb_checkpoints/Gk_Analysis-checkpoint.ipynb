{
 "cells": [
  {
   "cell_type": "code",
   "execution_count": 1,
   "id": "c7311417-9713-4618-ad1d-261b1c95174e",
   "metadata": {},
   "outputs": [],
   "source": [
    "import pandas as pd\n",
    "import matplotlib.pyplot as plt\n",
    "import numpy as np\n",
    "import matplotlib.image as mpimg\n",
    "import matplotlib.patches as patches\n",
    "import matplotlib as mpl\n",
    "from mplsoccer import Pitch, VerticalPitch, FontManager, Sbopen, add_image\n",
    "from matplotlib.font_manager import FontProperties\n",
    "from matplotlib.colors import LinearSegmentedColormap\n",
    "import matplotlib.patheffects as path_effects\n",
    "from highlight_text import ax_text, fig_text\n",
    "from PIL import Image\n",
    "from mplsoccer import add_image\n",
    "from urllib.request import urlopen\n",
    "import os\n",
    "\n",
    "\n",
    "# Print the modified DataFrame\n",
    "pd.set_option('display.max_columns', None)\n",
    "pd.set_option('display.max_rows', None)\n",
    "\n",
    "green = '#69f900'\n",
    "red = '#ff4b44'\n",
    "blue = '#00a0de'\n",
    "violet = '#a369ff'\n",
    "bg_color= '#f5f5f5'\n",
    "line_color= '#000000'\n",
    "col1 = '#ff4b44'\n",
    "col2 = '#00a0de'"
   ]
  },
  {
   "cell_type": "code",
   "execution_count": 3,
   "id": "73653d3a-26c0-479c-a248-2d61f8a3ceec",
   "metadata": {},
   "outputs": [],
   "source": [
    "df = pd.read_csv(r\"D:\\FData\\LaLiga_2024_25\\till_gw9.csv\")"
   ]
  },
  {
   "cell_type": "code",
   "execution_count": 4,
   "id": "5ea43b31-7709-4f4f-9893-b8ddb8625585",
   "metadata": {},
   "outputs": [
    {
     "data": {
      "text/plain": [
       "Index(['level_0', 'index', 'eventId', 'minute', 'second', 'teamId', 'x', 'y',\n",
       "       'expandedMinute', 'period', 'type', 'outcomeType', 'qualifiers',\n",
       "       'satisfiedEventsTypes', 'isTouch', 'playerId', 'endX', 'endY',\n",
       "       'blockedX', 'blockedY', 'goalMouthZ', 'goalMouthY', 'isShot',\n",
       "       'relatedEventId', 'relatedPlayerId', 'cumulative_mins', 'x1_bin_xT',\n",
       "       'y1_bin_xT', 'x2_bin_xT', 'y2_bin_xT', 'start_zone_value_xT',\n",
       "       'end_zone_value_xT', 'xT', 'teamName', 'oppositionTeamName', 'shirtNo',\n",
       "       'name', 'position', 'isFirstEleven', 'prog_pass', 'prog_carry',\n",
       "       'pass_or_carry_angle', 'pass_or_carry_length', 'shortName',\n",
       "       'possession_id', 'possession_team', 'match_id', 'home_team_name',\n",
       "       'away_team_name'],\n",
       "      dtype='object')"
      ]
     },
     "execution_count": 4,
     "metadata": {},
     "output_type": "execute_result"
    }
   ],
   "source": [
    "df.columns"
   ]
  },
  {
   "cell_type": "code",
   "execution_count": null,
   "id": "8f50925d-8a01-4349-ac2c-14d83a67764b",
   "metadata": {},
   "outputs": [],
   "source": [
    "def gk_ball(ax,team_name):\n",
    "    dfteam = df[(df['teamName']==team_name) | (df['oppositionTeamName']=team_name)]\n",
    "    pitch = VerticalPitch(pitch_type='uefa', pitch_color=bg_color, line_color=line_color)\n",
    "    pitch.draw(ax=ax)\n",
    "\n",
    "    if dfteam[(dfteam['type']=='Pass') & (dfteam['position'])]\n",
    "\n",
    "    return "
   ]
  }
 ],
 "metadata": {
  "kernelspec": {
   "display_name": "Python 3 (ipykernel)",
   "language": "python",
   "name": "python3"
  },
  "language_info": {
   "codemirror_mode": {
    "name": "ipython",
    "version": 3
   },
   "file_extension": ".py",
   "mimetype": "text/x-python",
   "name": "python",
   "nbconvert_exporter": "python",
   "pygments_lexer": "ipython3",
   "version": "3.11.7"
  },
  "widgets": {
   "application/vnd.jupyter.widget-state+json": {
    "state": {},
    "version_major": 2,
    "version_minor": 0
   }
  }
 },
 "nbformat": 4,
 "nbformat_minor": 5
}
